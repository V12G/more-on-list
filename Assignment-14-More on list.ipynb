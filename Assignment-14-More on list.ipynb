{
 "cells": [
  {
   "cell_type": "code",
   "execution_count": 8,
   "id": "98402e0c",
   "metadata": {},
   "outputs": [
    {
     "name": "stdout",
     "output_type": "stream",
     "text": [
      "How many numbers you want:10\n",
      "[1, 2, 3, 4, 5, 6, 7, 8, 9, 10]\n"
     ]
    }
   ],
   "source": [
    "# Write a Python script to create a list of first N natural numbers.\n",
    "N=int(input(\"How many numbers you want:\"))\n",
    "l=[e for e in range(1,N+1)]\n",
    "print(l)"
   ]
  },
  {
   "cell_type": "code",
   "execution_count": 11,
   "id": "b3ff7277",
   "metadata": {},
   "outputs": [
    {
     "name": "stdout",
     "output_type": "stream",
     "text": [
      "How many odd numbers you want10\n",
      "[1, 3, 5, 7, 9, 11, 13, 15, 17, 19]\n"
     ]
    }
   ],
   "source": [
    "# Write a Python script to create a list of first N odd natural numbers.\n",
    "N=int(input(\"How many odd numbers you want\"))\n",
    "l=[e for e in range(1,2*(N),2)]\n",
    "print(l)"
   ]
  },
  {
   "cell_type": "code",
   "execution_count": 12,
   "id": "25ce3973",
   "metadata": {},
   "outputs": [
    {
     "name": "stdout",
     "output_type": "stream",
     "text": [
      "How many odd numbers you want10\n",
      "[2, 4, 6, 8, 10, 12, 14, 16, 18]\n"
     ]
    }
   ],
   "source": [
    "# Write a Python script to create a list of first N even natural numbers.\n",
    "N=int(input(\"How many odd numbers you want\"))\n",
    "l=[e for e in range(2,2*N,2)]\n",
    "print(l)"
   ]
  },
  {
   "cell_type": "code",
   "execution_count": 15,
   "id": "4f9917a6",
   "metadata": {},
   "outputs": [
    {
     "name": "stdout",
     "output_type": "stream",
     "text": [
      "Enter 1st number:12\n",
      "Enter 2nd number:13\n",
      "Greater number is= [13]\n"
     ]
    }
   ],
   "source": [
    "# Write a Python script to find the greatest number in a given list of numbers.\n",
    "a=int(input(\"Enter 1st number:\"))\n",
    "b=int(input(\"Enter 2nd number:\"))\n",
    "l=[a if a>b else b]\n",
    "print(\"Greater number is=\",l)"
   ]
  },
  {
   "cell_type": "code",
   "execution_count": 26,
   "id": "950af518",
   "metadata": {},
   "outputs": [
    {
     "name": "stdout",
     "output_type": "stream",
     "text": [
      "Enter number seprated by comma:1,2,3,4\n"
     ]
    },
    {
     "data": {
      "text/plain": [
       "1"
      ]
     },
     "execution_count": 26,
     "metadata": {},
     "output_type": "execute_result"
    }
   ],
   "source": [
    "# Write a Python script to find the smallest number in a given list of numbers.\n",
    "a=eval(input(\"Enter number seprated by comma:\"))\n",
    "l=list(a)\n",
    "min(l)"
   ]
  },
  {
   "cell_type": "code",
   "execution_count": 32,
   "id": "b4e38fd4",
   "metadata": {},
   "outputs": [
    {
     "name": "stdout",
     "output_type": "stream",
     "text": [
      "Enter the number seprated by comma1,2,3,4\n"
     ]
    },
    {
     "data": {
      "text/plain": [
       "10"
      ]
     },
     "execution_count": 32,
     "metadata": {},
     "output_type": "execute_result"
    }
   ],
   "source": [
    "# Write a Python script to calculate the sum of elements in a given list of numbers.\n",
    "sum([int(e) for e in input(\"Enter the number seprated by comma\").split(\",\")])"
   ]
  },
  {
   "cell_type": "code",
   "execution_count": 34,
   "id": "a000aa0b",
   "metadata": {},
   "outputs": [
    {
     "name": "stdout",
     "output_type": "stream",
     "text": [
      "Enter the elements seprated by comma4,5,2,8,9\n"
     ]
    },
    {
     "data": {
      "text/plain": [
       "28"
      ]
     },
     "execution_count": 34,
     "metadata": {},
     "output_type": "execute_result"
    }
   ],
   "source": [
    "sum([int(e) for e in input(\"Enter the elements seprated by comma\").split(\",\")])"
   ]
  },
  {
   "cell_type": "code",
   "execution_count": 43,
   "id": "97900eff",
   "metadata": {},
   "outputs": [
    {
     "name": "stdout",
     "output_type": "stream",
     "text": [
      "[1, 7, 9]\n"
     ]
    }
   ],
   "source": [
    "# Write a Python script to remove all non int values from a list.\n",
    "l=[1,\"a\",3.5,3+4j,7,\"Vaibhav\",9]\n",
    "a=[]\n",
    "for e in l:\n",
    "    if type(e)==int:\n",
    "        a.append(e)\n",
    "print(a)"
   ]
  },
  {
   "cell_type": "code",
   "execution_count": 44,
   "id": "50d0daa0",
   "metadata": {},
   "outputs": [
    {
     "data": {
      "text/plain": [
       "3"
      ]
     },
     "execution_count": 44,
     "metadata": {},
     "output_type": "execute_result"
    }
   ],
   "source": [
    "'''Write a Python script to print distinct elements along with their frequencies of\n",
    "occurrence in the list.'''\n",
    "l=[1,2,3,1,3,42,4,2,1,]\n",
    "l.count(1)"
   ]
  },
  {
   "cell_type": "code",
   "execution_count": 48,
   "id": "16c2d7b5",
   "metadata": {
    "scrolled": true
   },
   "outputs": [
    {
     "name": "stdout",
     "output_type": "stream",
     "text": [
      "Enter the numbers seprated by comma:1,2,1,2\n",
      "Enter the value of the elemnets:1\n",
      "1 not found in gien list:\n"
     ]
    }
   ],
   "source": [
    "'''Write a Python script to print distinct elements along with their frequencies of\n",
    "occurrence in the list.'''\n",
    "l=[eval(input(\"Enter the numbers seprated by comma:\"))]\n",
    "value=eval(input(\"Enter the value of the elemnets:\"))\n",
    "count=0\n",
    "length=len(l)\n",
    "for e in range(0,length):\n",
    "    if value==l[e]:\n",
    "        print(value,\"has frequency\",count,\"in a gien list\")\n",
    "        count+=1\n",
    "if count==0:\n",
    "    print(value,\"not found in gien list:\")"
   ]
  },
  {
   "cell_type": "code",
   "execution_count": 53,
   "id": "4953d6a6",
   "metadata": {},
   "outputs": [
    {
     "name": "stdout",
     "output_type": "stream",
     "text": [
      "Enter numbers seprated by comma 1,2,3,1,2,3,4,2,3,4,2,1,3,1\n",
      "Enter the element value:1\n",
      "0 3 11 13 "
     ]
    }
   ],
   "source": [
    "'''Write a Python script to print indices of all occurrences of a given element in a given\n",
    "list.'''\n",
    "l=[eval(x) for x in input(\"Enter numbers seprated by comma \").split(\",\")]\n",
    "element=eval(input(\"Enter the element value:\"))\n",
    "index=0\n",
    "while index<len(l):\n",
    "    if l[index]==element:\n",
    "        print(index,end=' ')\n",
    "    index+=1"
   ]
  },
  {
   "cell_type": "code",
   "execution_count": 57,
   "id": "b86020b1",
   "metadata": {},
   "outputs": [
    {
     "name": "stdout",
     "output_type": "stream",
     "text": [
      "Enter the numbers10,9,6,1,11,24,2,4\n",
      "[10, 9, 6, 1, 11, 24, 2, 4]\n",
      "[1, 2, 4, 6, 9, 10, 11, 24]\n"
     ]
    }
   ],
   "source": [
    "# Write a python script to sort a list.\n",
    "l=[int(n) for n in input(\"Enter the numbers\").split(',')]\n",
    "print(l)\n",
    "l.sort()\n",
    "print(l)"
   ]
  },
  {
   "cell_type": "code",
   "execution_count": null,
   "id": "bc5ab867",
   "metadata": {},
   "outputs": [],
   "source": []
  }
 ],
 "metadata": {
  "kernelspec": {
   "display_name": "Python 3 (ipykernel)",
   "language": "python",
   "name": "python3"
  },
  "language_info": {
   "codemirror_mode": {
    "name": "ipython",
    "version": 3
   },
   "file_extension": ".py",
   "mimetype": "text/x-python",
   "name": "python",
   "nbconvert_exporter": "python",
   "pygments_lexer": "ipython3",
   "version": "3.9.7"
  }
 },
 "nbformat": 4,
 "nbformat_minor": 5
}
